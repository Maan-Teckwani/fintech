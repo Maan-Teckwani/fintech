{
 "cells": [
  {
   "cell_type": "code",
   "execution_count": 1,
   "id": "3b4bb4c8-4eca-45b8-b4ec-2fe8392790c9",
   "metadata": {},
   "outputs": [],
   "source": [
    "## Activate dependencies\n",
    "import yfinance as yf\n",
    "from datetime import datetime\n",
    "import pandas as pd\n",
    "import matplotlib.pyplot as plt\n",
    "from matplotlib import style\n",
    "import matplotlib.dates as mdates\n",
    "import numpy as np\n",
    "import mplfinance as mpl\n",
    "\n",
    "style.use('ggplot')"
   ]
  },
  {
   "cell_type": "code",
   "execution_count": 2,
   "id": "96e3ce47-b507-4ba9-9c39-7ad7c44d05a3",
   "metadata": {},
   "outputs": [],
   "source": [
    "### User Inputs \n",
    "start_date = datetime(2017, 1, 1)\n",
    "end_date = datetime(2025, 12, 31)\n",
    "tickers = ['ITC.NS', 'HINDUNILVR.NS', 'INFY.NS', 'TCS.NS', 'INDIGO.NS']\n",
    "number_of_portfolios = 25000\n",
    "risk_free_rate = 0.063751"
   ]
  },
  {
   "cell_type": "code",
   "execution_count": 3,
   "id": "c2505b0a-9bf2-48bf-a5d9-9e1c7a3938f9",
   "metadata": {},
   "outputs": [],
   "source": [
    "## Create an empty DataFrame for storing returns\n",
    "returns = pd.DataFrame()"
   ]
  },
  {
   "cell_type": "code",
   "execution_count": 4,
   "id": "ef55f80c-53a4-4fc0-915e-d4f58dddd83d",
   "metadata": {},
   "outputs": [
    {
     "name": "stdout",
     "output_type": "stream",
     "text": [
      "Downloading ITC.NS...\n"
     ]
    },
    {
     "name": "stderr",
     "output_type": "stream",
     "text": [
      "[*********************100%***********************]  1 of 1 completed\n"
     ]
    },
    {
     "name": "stdout",
     "output_type": "stream",
     "text": [
      "Downloading HINDUNILVR.NS...\n"
     ]
    },
    {
     "name": "stderr",
     "output_type": "stream",
     "text": [
      "[*********************100%***********************]  1 of 1 completed\n"
     ]
    },
    {
     "name": "stdout",
     "output_type": "stream",
     "text": [
      "Downloading INFY.NS...\n"
     ]
    },
    {
     "name": "stderr",
     "output_type": "stream",
     "text": [
      "[*********************100%***********************]  1 of 1 completed\n"
     ]
    },
    {
     "name": "stdout",
     "output_type": "stream",
     "text": [
      "Downloading TCS.NS...\n"
     ]
    },
    {
     "name": "stderr",
     "output_type": "stream",
     "text": [
      "[*********************100%***********************]  1 of 1 completed\n"
     ]
    },
    {
     "name": "stdout",
     "output_type": "stream",
     "text": [
      "Downloading INDIGO.NS...\n"
     ]
    },
    {
     "name": "stderr",
     "output_type": "stream",
     "text": [
      "[*********************100%***********************]  1 of 1 completed"
     ]
    },
    {
     "name": "stdout",
     "output_type": "stream",
     "text": [
      "\n",
      "Sample of daily returns:\n",
      "Ticker        ITC.NS  HINDUNILVR.NS   INFY.NS    TCS.NS  INDIGO.NS\n",
      "Date                                                              \n",
      "2017-01-02       NaN            NaN       NaN       NaN        NaN\n",
      "2017-01-03  0.009961       0.005452 -0.007242  0.002922  -0.003040\n",
      "2017-01-04  0.008629      -0.009942  0.003924  0.004750   0.028725\n",
      "2017-01-05  0.005296       0.014058 -0.001604 -0.018953  -0.001838\n",
      "2017-01-06 -0.016413       0.000720 -0.023992 -0.022704  -0.001247\n"
     ]
    },
    {
     "name": "stderr",
     "output_type": "stream",
     "text": [
      "\n"
     ]
    }
   ],
   "source": [
    "## Download data and calculate daily returns\n",
    "for ticker in tickers:\n",
    "    try:\n",
    "        print(f\"Downloading {ticker}...\")\n",
    "        data = yf.download(ticker, start=start_date, end=end_date, auto_adjust=False)\n",
    "        \n",
    "        if 'Adj Close' not in data.columns:\n",
    "            raise ValueError(f\"'Adj Close' not found for {ticker}\")\n",
    "        \n",
    "        # Compute daily returns and name the column with the ticker\n",
    "        daily_return = data['Adj Close'].pct_change()\n",
    "        daily_return.name = ticker\n",
    "\n",
    "        # Join to returns DataFrame\n",
    "        if returns.empty:\n",
    "            returns = pd.DataFrame(daily_return)\n",
    "        else:\n",
    "            returns = returns.join(daily_return, how='outer')\n",
    "\n",
    "    except Exception as e:\n",
    "        print(f\"Error downloading {ticker}: {e}\")\n",
    "\n",
    "print(\"\\nSample of daily returns:\")\n",
    "print(returns.head())\n"
   ]
  },
  {
   "cell_type": "code",
   "execution_count": 5,
   "id": "c8b2aaab-d240-48b8-ad29-0090513d4ffe",
   "metadata": {},
   "outputs": [
    {
     "data": {
      "text/html": [
       "<div>\n",
       "<style scoped>\n",
       "    .dataframe tbody tr th:only-of-type {\n",
       "        vertical-align: middle;\n",
       "    }\n",
       "\n",
       "    .dataframe tbody tr th {\n",
       "        vertical-align: top;\n",
       "    }\n",
       "\n",
       "    .dataframe thead th {\n",
       "        text-align: right;\n",
       "    }\n",
       "</style>\n",
       "<table border=\"1\" class=\"dataframe\">\n",
       "  <thead>\n",
       "    <tr style=\"text-align: right;\">\n",
       "      <th>Ticker</th>\n",
       "      <th>ITC.NS</th>\n",
       "      <th>HINDUNILVR.NS</th>\n",
       "      <th>INFY.NS</th>\n",
       "      <th>TCS.NS</th>\n",
       "      <th>INDIGO.NS</th>\n",
       "    </tr>\n",
       "    <tr>\n",
       "      <th>Date</th>\n",
       "      <th></th>\n",
       "      <th></th>\n",
       "      <th></th>\n",
       "      <th></th>\n",
       "      <th></th>\n",
       "    </tr>\n",
       "  </thead>\n",
       "  <tbody>\n",
       "    <tr>\n",
       "      <th>2025-07-14</th>\n",
       "      <td>0.006238</td>\n",
       "      <td>-0.001191</td>\n",
       "      <td>-0.015424</td>\n",
       "      <td>-0.013258</td>\n",
       "      <td>0.003887</td>\n",
       "    </tr>\n",
       "    <tr>\n",
       "      <th>2025-07-15</th>\n",
       "      <td>0.006438</td>\n",
       "      <td>0.004093</td>\n",
       "      <td>0.009743</td>\n",
       "      <td>0.009185</td>\n",
       "      <td>-0.001683</td>\n",
       "    </tr>\n",
       "    <tr>\n",
       "      <th>2025-07-16</th>\n",
       "      <td>0.005923</td>\n",
       "      <td>-0.003680</td>\n",
       "      <td>0.014064</td>\n",
       "      <td>-0.002530</td>\n",
       "      <td>0.003288</td>\n",
       "    </tr>\n",
       "    <tr>\n",
       "      <th>2025-07-17</th>\n",
       "      <td>-0.001531</td>\n",
       "      <td>-0.003098</td>\n",
       "      <td>-0.015175</td>\n",
       "      <td>-0.007392</td>\n",
       "      <td>-0.025798</td>\n",
       "    </tr>\n",
       "    <tr>\n",
       "      <th>2025-07-18</th>\n",
       "      <td>-0.002831</td>\n",
       "      <td>-0.008048</td>\n",
       "      <td>0.001642</td>\n",
       "      <td>-0.006014</td>\n",
       "      <td>0.011127</td>\n",
       "    </tr>\n",
       "  </tbody>\n",
       "</table>\n",
       "</div>"
      ],
      "text/plain": [
       "Ticker        ITC.NS  HINDUNILVR.NS   INFY.NS    TCS.NS  INDIGO.NS\n",
       "Date                                                              \n",
       "2025-07-14  0.006238      -0.001191 -0.015424 -0.013258   0.003887\n",
       "2025-07-15  0.006438       0.004093  0.009743  0.009185  -0.001683\n",
       "2025-07-16  0.005923      -0.003680  0.014064 -0.002530   0.003288\n",
       "2025-07-17 -0.001531      -0.003098 -0.015175 -0.007392  -0.025798\n",
       "2025-07-18 -0.002831      -0.008048  0.001642 -0.006014   0.011127"
      ]
     },
     "execution_count": 5,
     "metadata": {},
     "output_type": "execute_result"
    }
   ],
   "source": [
    "returns.tail()"
   ]
  },
  {
   "cell_type": "code",
   "execution_count": 13,
   "id": "3d841a51-36f5-496e-bc87-8c3927ab4f79",
   "metadata": {},
   "outputs": [],
   "source": [
    "##Drop Missing Values\n",
    "\n",
    "returns = returns.dropna()"
   ]
  },
  {
   "cell_type": "code",
   "execution_count": 15,
   "id": "4d7ad017-31a5-4c29-b3c9-956f82e719c9",
   "metadata": {},
   "outputs": [],
   "source": [
    "## Create varaible spaces (to be computed)\n",
    "\n",
    "portfolio_returns = []\n",
    "portfolio_risks = []\n",
    "sharpe_ratios = []\n",
    "portfolio_weights = []"
   ]
  },
  {
   "cell_type": "code",
   "execution_count": null,
   "id": "c96f2377-a220-47f1-b1b7-693d302ca7f8",
   "metadata": {},
   "outputs": [],
   "source": [
    "## Compute the variables required to build the portfolio\n",
    "\n",
    "for portfolio in range(number_of_portfolio):\n",
    "    weights = np.random.random_sample(len(tickers))  #Generating random portfolio weights\n",
    "    weights = np.round((weights/np.sum(weights)),3)   #Rouding of the random weights upto 3 decimal points\n",
    "    portfolio_weights.append(weights)   ##add the weights in the portfolio weights space created earlier\n",
    "    annualised_return = np.sum(returns.mean()*weights)*252   ##computing the annualised portfolio returns\n",
    "    portfolio_returns.append(annualised_return)   ##add the annualised returns in the portfolio returns space created earlier\n",
    "    covariance_matrix = returns.cob()*252   ##build the covariance matrix\n",
    "    portfolio_stdev = np.sqrt(np.dot(weights.T, np.dot(covariance_matrix,weights)))\n",
    "    portfolio_risks.append(portfolio_stdev)\n",
    "    sharpe_ratio = (annualised_return - risk_free_rate)/portfolio_stdev\n",
    "    sharpe_ratios.append(sharpe_ratio)\n",
    "    "
   ]
  }
 ],
 "metadata": {
  "kernelspec": {
   "display_name": "Python [conda env:base] *",
   "language": "python",
   "name": "conda-base-py"
  },
  "language_info": {
   "codemirror_mode": {
    "name": "ipython",
    "version": 3
   },
   "file_extension": ".py",
   "mimetype": "text/x-python",
   "name": "python",
   "nbconvert_exporter": "python",
   "pygments_lexer": "ipython3",
   "version": "3.12.7"
  }
 },
 "nbformat": 4,
 "nbformat_minor": 5
}
