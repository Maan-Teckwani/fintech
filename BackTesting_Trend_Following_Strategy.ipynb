{
 "cells": [
  {
   "cell_type": "code",
   "execution_count": 1,
   "id": "740bb4e3-5527-4141-bdbf-347084ef1f34",
   "metadata": {},
   "outputs": [],
   "source": [
    "## Activate the Packages\n",
    "import yfinance as yf\n",
    "import numpy as np\n",
    "import pandas as pd"
   ]
  },
  {
   "cell_type": "code",
   "execution_count": 2,
   "id": "28ac4d3f-d442-4738-856b-dd1fa328810f",
   "metadata": {},
   "outputs": [],
   "source": [
    "def trend_following_vs_buy_hold(tickers, period='6mo'):\n",
    "    for ticker in tickers:\n",
    "        # Download data\n",
    "        data = yf.download(ticker, period=period, auto_adjust=False)\n",
    "        if data.empty:\n",
    "            print(f\"{ticker} → No data available.\\n\")\n",
    "            continue\n",
    "\n",
    "        # Keep only Adj Close\n",
    "        data = data[['Adj Close']].copy()\n",
    "\n",
    "        # Drop rows with missing data\n",
    "        data.dropna(inplace=True)\n",
    "\n",
    "        # Moving Averages\n",
    "        data['STMA12'] = data['Adj Close'].rolling(window=12).mean()\n",
    "        data['LTMA26'] = data['Adj Close'].rolling(window=26).mean()\n",
    "\n",
    "        # Daily Returns\n",
    "        data['Daily Return'] = data['Adj Close'].pct_change()\n",
    "\n",
    "        # Buy & Hold Return\n",
    "        try:\n",
    "            buy_price = data['Adj Close'].iloc[0]\n",
    "            sell_price = data['Adj Close'].iloc[-1]\n",
    "            buy_hold_return = (sell_price / buy_price - 1).iloc[0]\n",
    "        except IndexError:\n",
    "            buy_hold_return = 0.0\n",
    "\n",
    "        # Trend Following Strategy\n",
    "        data['TFSignal'] = (data['STMA12'] > data['LTMA26']).astype(int)\n",
    "        tf_data = data[data['TFSignal'] == 1].copy()\n",
    "\n",
    "        if not tf_data.empty:\n",
    "            tf_data['TF Cumulative Return'] = (1 + tf_data['Daily Return']).cumprod() - 1\n",
    "            tf_final_return = tf_data['TF Cumulative Return'].iloc[-1]\n",
    "        else:\n",
    "            tf_final_return = 0.0\n",
    "\n",
    "        # Output Comparison\n",
    "        print(f\"\\n📈 {ticker}\")\n",
    "        print(f\"   Buy & Hold Return:         {buy_hold_return:.2%}\")\n",
    "        print(f\"   Trend Following Return:    {tf_final_return:.2%}\")\n",
    "\n"
   ]
  },
  {
   "cell_type": "code",
   "execution_count": 5,
   "id": "04304369-0493-42f1-8217-883ca6153f92",
   "metadata": {},
   "outputs": [
    {
     "name": "stderr",
     "output_type": "stream",
     "text": [
      "[*********************100%***********************]  1 of 1 completed\n"
     ]
    },
    {
     "name": "stdout",
     "output_type": "stream",
     "text": [
      "\n",
      "📈 M&M.NS\n",
      "   Buy & Hold Return:         11.91%\n",
      "   Trend Following Return:    -22.15%\n"
     ]
    },
    {
     "name": "stderr",
     "output_type": "stream",
     "text": [
      "[*********************100%***********************]  1 of 1 completed\n"
     ]
    },
    {
     "name": "stdout",
     "output_type": "stream",
     "text": [
      "\n",
      "📈 ITC.NS\n",
      "   Buy & Hold Return:         0.41%\n",
      "   Trend Following Return:    -6.12%\n"
     ]
    },
    {
     "name": "stderr",
     "output_type": "stream",
     "text": [
      "[*********************100%***********************]  1 of 1 completed\n"
     ]
    },
    {
     "name": "stdout",
     "output_type": "stream",
     "text": [
      "\n",
      "📈 HINDUNILVR.NS\n",
      "   Buy & Hold Return:         -6.53%\n",
      "   Trend Following Return:    -5.85%\n"
     ]
    },
    {
     "name": "stderr",
     "output_type": "stream",
     "text": [
      "[*********************100%***********************]  1 of 1 completed\n"
     ]
    },
    {
     "name": "stdout",
     "output_type": "stream",
     "text": [
      "\n",
      "📈 INFY.NS\n",
      "   Buy & Hold Return:         3.80%\n",
      "   Trend Following Return:    13.09%\n"
     ]
    },
    {
     "name": "stderr",
     "output_type": "stream",
     "text": [
      "[*********************100%***********************]  1 of 1 completed"
     ]
    },
    {
     "name": "stdout",
     "output_type": "stream",
     "text": [
      "\n",
      "📈 TCS.NS\n",
      "   Buy & Hold Return:         -10.64%\n",
      "   Trend Following Return:    -5.16%\n"
     ]
    },
    {
     "name": "stderr",
     "output_type": "stream",
     "text": [
      "\n"
     ]
    }
   ],
   "source": [
    "tickers = ['M&M.NS', 'ITC.NS', 'HINDUNILVR.NS', 'INFY.NS','TCS.NS']\n",
    "trend_following_vs_buy_hold(tickers, period='1y')"
   ]
  },
  {
   "cell_type": "code",
   "execution_count": null,
   "id": "1284574e-b6b9-490f-a07a-0e2ad4822c2e",
   "metadata": {},
   "outputs": [],
   "source": []
  }
 ],
 "metadata": {
  "kernelspec": {
   "display_name": "Python [conda env:base] *",
   "language": "python",
   "name": "conda-base-py"
  },
  "language_info": {
   "codemirror_mode": {
    "name": "ipython",
    "version": 3
   },
   "file_extension": ".py",
   "mimetype": "text/x-python",
   "name": "python",
   "nbconvert_exporter": "python",
   "pygments_lexer": "ipython3",
   "version": "3.12.7"
  }
 },
 "nbformat": 4,
 "nbformat_minor": 5
}
